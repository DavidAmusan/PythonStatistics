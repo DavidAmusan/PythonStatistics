{
 "cells": [
  {
   "cell_type": "markdown",
   "id": "35a2bfe3",
   "metadata": {},
   "source": [
    "# Data Science Principles and Practices (COMM054) Lab Week 5\n",
    "\n",
    "Follow the instructions to complete each of these tasks. This set of exercises focusses on writing basic Python code to perform estimation using **SciPy**. Do not worry if you do not complete them all in the timetabled lab session.\n",
    "\n",
    "This is not assessed but will help you gain practical experience for the module exam and coursework."
   ]
  },
  {
   "cell_type": "markdown",
   "id": "6fd84327",
   "metadata": {},
   "source": [
    "# Libraries\n",
    "\n",
    "As in previous weeks, we will be using NumPy, SciPy, and Pyplot from Matplotlib, so import these first:\n",
    "\n",
    "```python\n",
    "import numpy as np\n",
    "import scipy.stats as ss\n",
    "import matplotlib.pyplot as plt\n",
    "```"
   ]
  },
  {
   "cell_type": "code",
   "execution_count": 1,
   "id": "ae32fba5",
   "metadata": {},
   "outputs": [],
   "source": [
    "import numpy as np\n",
    "import scipy.stats as ss\n",
    "import matplotlib.pyplot as plt"
   ]
  },
  {
   "cell_type": "markdown",
   "id": "b89c1fec",
   "metadata": {},
   "source": [
    "# Estimation of population mean and population variance\n",
    "\n",
    "Recall the estimators for the population mean and population variance discussed in lectures:\n",
    "\n",
    "$$\n",
    "\\begin{align*}\n",
    "\\overline{x} &= \\frac{1}{n}\\sum_{i=1}^n x_i \\qquad\\qquad\\text{sample mean}\\\\\n",
    "s^2_\\text{biased} &= \\frac{1}{n}\\sum_{i=1}^n (x_i-\\overline{x})^2\\qquad\\text{biased sample variance}\\\\\n",
    "s^2_\\text{unbiased} &= \\frac{1}{n-1}\\sum_{i=1}^n (x_i-\\overline{x})^2\\qquad\\text{unbiased sample variance}\n",
    "\\end{align*}\n",
    "$$\n",
    "where $n$ is the sample size. \n",
    "\n",
    "Let us first evaluate these by drawing 6 samples from a Poisson distribution (which you will recall has equal mean and variance):\n",
    "\n",
    "```python\n",
    "mu, n = 5, 6\n",
    "x_samples = ss.poisson.rvs(mu, size=n)\n",
    "\n",
    "mean = np.mean(x_samples)\n",
    "var_b = np.var(x_samples)\n",
    "var_ub = np.var(x_samples, ddof=1)\n",
    "print(\"The true values of the mean and variance are\", mu, \"and\", mu, \"respectively\")\n",
    "print(\"The samples are\", x_samples)\n",
    "print(\"The sample mean is\", mean)\n",
    "print(\"The biased sample variance is\", var_b)\n",
    "print(\"The unbiased sample variance is\", var_ub)\n",
    "```"
   ]
  },
  {
   "cell_type": "code",
   "execution_count": 2,
   "id": "36cdcd91",
   "metadata": {},
   "outputs": [
    {
     "name": "stdout",
     "output_type": "stream",
     "text": [
      "The true values of the mean and variance are 5 and 5 respectively\n",
      "The samples are [3 5 3 7 2 4]\n",
      "The sample mean is 4.0\n",
      "The biased sample variance is 2.6666666666666665\n",
      "The unbiased sample variance is 3.2\n"
     ]
    }
   ],
   "source": [
    "mu, n = 5, 6\n",
    "x_samples = ss.poisson.rvs(mu, size=n)\n",
    "\n",
    "mean = np.mean(x_samples)\n",
    "var_b = np.var(x_samples)\n",
    "var_ub = np.var(x_samples, ddof=1)\n",
    "print(\"The true values of the mean and variance are\", mu, \"and\", mu, \"respectively\")\n",
    "print(\"The samples are\", x_samples)\n",
    "print(\"The sample mean is\", mean)\n",
    "print(\"The biased sample variance is\", var_b)\n",
    "print(\"The unbiased sample variance is\", var_ub)"
   ]
  },
  {
   "cell_type": "markdown",
   "id": "204b3e1e",
   "metadata": {},
   "source": [
    "Unbiased estimators have the property that their expectation equals the true value of the parameter. This means that if we consider a large number of experiments (in each case, taking a fixed number of samples $n$, and calculating the estimator on these samples), then the average of the estimates will tend to the true value of the parameter as the number of experiments increases. \n",
    "\n",
    "Let's see this in action for our case: we consider running 10000 experiments, where in each case we sample 6 values from the Poisson distribution. We calculate the sample mean, biased sample variance, and unbiased sample variance in each case, and average over the number of experiments:\n",
    "\n",
    "```python\n",
    "mu, n = 5, 6\n",
    "num_experiments = 10000\n",
    "\n",
    "mean_average, var_b_average, var_ub_average = 0, 0, 0\n",
    "\n",
    "for i in range(num_experiments):\n",
    "    x_samples = ss.poisson.rvs(mu, size=n)\n",
    "    mean_average += np.mean(x_samples)             # sum all the sample means\n",
    "    var_b_average += np.var(x_samples)             # sum all the biased sample variances\n",
    "    var_ub_average += np.var(x_samples, ddof=1)    # sum all the unbiased sample variances\n",
    "\n",
    "mean_average /= num_experiments   # average over all experiments\n",
    "var_b_average /= num_experiments\n",
    "var_ub_average /= num_experiments\n",
    "\n",
    "print(\"The true values of the mean and variance are\", mu, \"and\", mu, \"respectively\")\n",
    "print(\"The average of the sample mean over \" + str(num_experiments) + \" experiments is\", mean_average)\n",
    "print(\"The average of the biased sample variance over \" + str(num_experiments) + \" experiments is\", var_b_average)\n",
    "print(\"The average of the unbiased sample variance over \" + str(num_experiments) + \" experiments is\", var_ub_average)\n",
    "```"
   ]
  },
  {
   "cell_type": "code",
   "execution_count": 3,
   "id": "bc83b129",
   "metadata": {},
   "outputs": [
    {
     "name": "stdout",
     "output_type": "stream",
     "text": [
      "The true values of the mean and variance are 5 and 5 respectively\n",
      "The average of the sample mean over 10000 experiments is 5.004883333333351\n",
      "The average of the biased sample variance over 10000 experiments is 4.16507499999999\n",
      "The average of the unbiased sample variance over 10000 experiments is 4.998090000000069\n"
     ]
    }
   ],
   "source": [
    "mu, n = 5, 6\n",
    "num_experiments = 10000\n",
    "\n",
    "mean_average, var_b_average, var_ub_average = 0, 0, 0\n",
    "\n",
    "for i in range(num_experiments):\n",
    "    x_samples = ss.poisson.rvs(mu, size=n)\n",
    "    mean_average += np.mean(x_samples)             # sum all the sample means\n",
    "    var_b_average += np.var(x_samples)             # sum all the biased sample variances\n",
    "    var_ub_average += np.var(x_samples, ddof=1)    # sum all the unbiased sample variances\n",
    "\n",
    "mean_average /= num_experiments   # average over all experiments\n",
    "var_b_average /= num_experiments\n",
    "var_ub_average /= num_experiments\n",
    "\n",
    "print(\"The true values of the mean and variance are\", mu, \"and\", mu, \"respectively\")\n",
    "print(\"The average of the sample mean over \" + str(num_experiments) + \" experiments is\", mean_average)\n",
    "print(\"The average of the biased sample variance over \" + str(num_experiments) + \" experiments is\", var_b_average)\n",
    "print(\"The average of the unbiased sample variance over \" + str(num_experiments) + \" experiments is\", var_ub_average)"
   ]
  },
  {
   "cell_type": "markdown",
   "id": "350f8be7",
   "metadata": {},
   "source": [
    "You should see that the averages of the sample mean and unbiased sample variance closely agree with the true values of the mean and variance of the underlying distribution, while the average of the biased sample variance underestimates the true value of the variance (by a factor of approximately $\\frac{n-1}{n}$).\n",
    "\n",
    "Try playing around with some of the parameters in the program above to see what effect it has. Note that for a large number of samples $n$, the difference between the unbiased and biased sample variance becomes small (since $\\frac{n-1}{n}\\simeq 1$ for large $n$).\n",
    "\n",
    "Repeat this example for a normal distribution with mean 5 and standard deviation 3:"
   ]
  },
  {
   "cell_type": "code",
   "execution_count": 7,
   "id": "8ff6ba7f",
   "metadata": {},
   "outputs": [
    {
     "name": "stdout",
     "output_type": "stream",
     "text": [
      "The true values of the mean and variance are 5 and 3 respectively\n",
      "The average of the sample mean over 10000 experiments is 4.98083231264163\n",
      "The average of the biased sample variance over 10000 experiments is 7.474688459208042\n",
      "The average of the unbiased sample variance over 10000 experiments is 8.96962615104962\n"
     ]
    }
   ],
   "source": [
    "mu,n,sd = 5, 6, 3\n",
    "num_experiments = 10000\n",
    "\n",
    "mean_average, var_b_average, var_ub_average = 0, 0, 0\n",
    "\n",
    "for i in range(num_experiments):\n",
    "    x_samples = ss.norm.rvs(mu,sd, size=n)\n",
    "    mean_average += np.mean(x_samples)             # sum all the sample means\n",
    "    var_b_average += np.var(x_samples)             # sum all the biased sample variances\n",
    "    var_ub_average += np.var(x_samples, ddof=1)    # sum all the unbiased sample variances\n",
    "\n",
    "mean_average /= num_experiments   # average over all experiments\n",
    "var_b_average /= num_experiments\n",
    "var_ub_average /= num_experiments\n",
    "\n",
    "print(\"The true values of the mean and variance are\", mu, \"and\", sd, \"respectively\")\n",
    "print(\"The average of the sample mean over \" + str(num_experiments) + \" experiments is\", mean_average)\n",
    "print(\"The average of the biased sample variance over \" + str(num_experiments) + \" experiments is\", var_b_average)\n",
    "print(\"The average of the unbiased sample variance over \" + str(num_experiments) + \" experiments is\", var_ub_average)"
   ]
  },
  {
   "cell_type": "markdown",
   "id": "1b75d569",
   "metadata": {},
   "source": [
    "# Confidence intervals\n",
    "\n",
    "## Normal distribution with unknown $\\mu$, known $\\sigma$\n",
    "\n",
    "Suppose we sample a random variable $X\\sim N(\\mu,\\sigma^2)$ that is distributed normally with mean $\\mu$ and standard deviation $\\sigma$, and obtain the sample $x_1, x_2,\\ldots, x_n$. In lectures we showed that the (two-sided) confidence interval associated with this sample is \n",
    "$$\n",
    "\\left(\\overline{x} - k\\frac{\\sigma}{\\sqrt{n}},\\ \\overline{x}+k\\frac{\\sigma}{\\sqrt{n}}\\right)\n",
    "$$\n",
    "where $k$ takes on various values depending on the confidence percentage we are considering. Note that the endpoints of the CI are statistics, since we are assuming that $\\sigma$ is **known**.\n",
    "Some commonly considered values are\n",
    "\n",
    "| CI% | $k$ |\n",
    "|:---:|:---:|\n",
    "| 90 | 1.645 |\n",
    "| 95 | 1.96 |\n",
    "| 98 | 2.326 |\n",
    "| 99 | 2.576 |\n",
    "\n",
    "(The general formula for $k$ for a given confidence percentage $C$ is\n",
    "$\n",
    "k = G\\left(\\frac{1}{2}\\left(1+\\frac{C}{100}\\right)\\right)\n",
    "$,\n",
    "where $G$ is the so-called *percent-point function* corresponding to the normal distribution. The percent-point function $G(\\alpha)$ gives the value such that $P(Z<G(\\alpha)) = \\alpha$, where $Z\\sim N(0,1)$. The percent-point function is implemented as `scipy.stats.norm.ppf` in SciPy.)\n",
    "\n",
    "The code below samples a random variable $X\\sim N(5, 3^2)$ 1000 times, and calculates the corresponding 95% confidence interval:\n",
    "\n",
    "```python\n",
    "mu, sigma, n = 5, 3, 1000\n",
    "confidence_percentage = 95\n",
    "k = ss.norm.ppf(1/2*(1+confidence_percentage/100))\n",
    "\n",
    "x_samples = ss.norm.rvs(loc = mu, scale = sigma, size=n)\n",
    "\n",
    "x_bar = np.mean(x_samples)\n",
    "lower_bound, upper_bound = x_bar-k*sigma/np.sqrt(n), x_bar+k*sigma/np.sqrt(n)\n",
    "\n",
    "print(\"The \"+ str(confidence_percentage) + \"% confidence interval for the sample is \"+\"(\" + str(lower_bound) + \",\" + str(upper_bound) + \")\")\n",
    "```\n",
    "Try this below:"
   ]
  },
  {
   "cell_type": "code",
   "execution_count": 8,
   "id": "89fc9016",
   "metadata": {},
   "outputs": [
    {
     "name": "stdout",
     "output_type": "stream",
     "text": [
      "The 95% confidence interval for the sample is (4.8188568142231185,5.190733833605855)\n"
     ]
    }
   ],
   "source": [
    "mu, sigma, n = 5, 3, 1000\n",
    "confidence_percentage = 95\n",
    "k = ss.norm.ppf(1/2*(1+confidence_percentage/100))\n",
    "\n",
    "x_samples = ss.norm.rvs(loc = mu, scale = sigma, size=n)\n",
    "\n",
    "x_bar = np.mean(x_samples)\n",
    "lower_bound, upper_bound = x_bar-k*sigma/np.sqrt(n), x_bar+k*sigma/np.sqrt(n)\n",
    "\n",
    "print(\"The \"+ str(confidence_percentage) + \"% confidence interval for the sample is \"+\"(\" + str(lower_bound) + \",\" + str(upper_bound) + \")\")"
   ]
  },
  {
   "cell_type": "markdown",
   "id": "2d287c98",
   "metadata": {},
   "source": [
    "The confidence interval can also be calculated using the `interval()` method, which calculates the interval that contains 95% of the probability of a distribution. Since for the sample mean \n",
    "$$\\overline{X}\\sim N\\left(\\mu,\\frac{\\sigma^2}{n}\\right),$$\n",
    "we calculate the 95% confidence interval using:\n",
    "```python\n",
    "ss.norm.interval(0.95,np.mean(x_samples),sigma/np.sqrt(n))\n",
    "```\n",
    "Try this:"
   ]
  },
  {
   "cell_type": "code",
   "execution_count": 9,
   "id": "cbc7bc80",
   "metadata": {},
   "outputs": [
    {
     "data": {
      "text/plain": [
       "(4.8188568142231185, 5.190733833605855)"
      ]
     },
     "execution_count": 9,
     "metadata": {},
     "output_type": "execute_result"
    }
   ],
   "source": [
    "ss.norm.interval(0.95,x_bar,sigma/np.sqrt(n))"
   ]
  },
  {
   "cell_type": "markdown",
   "id": "a8a868f9",
   "metadata": {},
   "source": [
    "The interpretation of the 95% confidence interval is as follows: suppose we conduct a number of \"experiments\", where each experiment consists of sampling $n$ times from $X$, and calculating the corresponding confidence interval. Then for a large number of experiments, the true value of the (unknown to us) mean $\\mu$ will lie within the confidence interval 95% of the time. Let's test this with the following code:\n",
    "```python\n",
    "mu, sigma, n = 5, 3, 1000  # n = number of samples taken in each experiment\n",
    "confidence_percentage = 95  # 95% confidence interval\n",
    "k = ss.norm.ppf(1/2*(1+confidence_percentage/100))\n",
    "\n",
    "num_experiments = 100  \n",
    "num_containing_mu = 0        # records the number of times our confidence interval contains the true value of the mean\n",
    "\n",
    "for i in range(num_experiments):\n",
    "    x_samples = ss.norm.rvs(loc=mu, scale=sigma, size=n)\n",
    "    x_bar = np.mean(x_samples)\n",
    "    lower_bound, upper_bound = x_bar-k*sigma/np.sqrt(n), x_bar+k*sigma/np.sqrt(n) # calculating the confidence interval\n",
    "    if (mu >= lower_bound) and (mu <= upper_bound):\n",
    "        num_containing_mu += 1       # if mu lies in the confidence interval, increment num_containing_mu by 1\n",
    "\n",
    "print(\"The fraction of experiments where the confidence interval contains the true value of mu is\", num_containing_mu/num_experiments)\n",
    "```\n",
    "Try this below. Experiment with adjusting `num_experiments`: as it gets larger, the fraction of times the CI contains $\\mu$ should get closer to 95%. Also experiment with other values of `confidence_percentage`."
   ]
  },
  {
   "cell_type": "code",
   "execution_count": 10,
   "id": "53cce578",
   "metadata": {},
   "outputs": [
    {
     "name": "stdout",
     "output_type": "stream",
     "text": [
      "The fraction of experiments where the confidence interval contains the true value of mu is 0.97\n"
     ]
    }
   ],
   "source": [
    "mu, sigma, n = 5, 3, 1000  # n = number of samples taken in each experiment\n",
    "confidence_percentage = 95  # 95% confidence interval\n",
    "k = ss.norm.ppf(1/2*(1+confidence_percentage/100))\n",
    "\n",
    "num_experiments = 100  \n",
    "num_containing_mu = 0        # records the number of times our confidence interval contains the true value of the mean\n",
    "\n",
    "for i in range(num_experiments):\n",
    "    x_samples = ss.norm.rvs(loc=mu, scale=sigma, size=n)\n",
    "    x_bar = np.mean(x_samples)\n",
    "    lower_bound, upper_bound = x_bar-k*sigma/np.sqrt(n), x_bar+k*sigma/np.sqrt(n) # calculating the confidence interval\n",
    "    if (mu >= lower_bound) and (mu <= upper_bound):\n",
    "        num_containing_mu += 1       # if mu lies in the confidence interval, increment num_containing_mu by 1\n",
    "\n",
    "print(\"The fraction of experiments where the confidence interval contains the true value of mu is\", num_containing_mu/num_experiments)"
   ]
  },
  {
   "cell_type": "markdown",
   "id": "1e0452c8",
   "metadata": {},
   "source": [
    "## Normal distribution with unknown $\\mu$ and $\\sigma$, large sample size\n",
    "\n",
    "Suppose instead that both $\\mu$ and $\\sigma$ are unknown. If the sample is large (above 30 at least), then we can approximate the confidence interval by\n",
    "$$\n",
    "\\left(\\overline{x} - k\\frac{s}{\\sqrt{n}},\\ \\overline{x}+k\\frac{s}{\\sqrt{n}}\\right)\n",
    "$$\n",
    "where $s$ is the *unbiased* sample standard deviation\n",
    "$$\n",
    "s = \\sqrt{\\frac{1}{n-1}\\sum_{i=1}^n (x_i-\\overline{x})^2}\n",
    "$$\n",
    "Using this result, sample from $X\\sim N(3,5^2)$ 1000 times to generate data, and then estimate the 95% confidence interval, assuming that both $\\mu=3$ and $\\sigma=5$ are **unknown**."
   ]
  },
  {
   "cell_type": "code",
   "execution_count": 120,
   "id": "5ea12fc0",
   "metadata": {},
   "outputs": [
    {
     "name": "stdout",
     "output_type": "stream",
     "text": [
      "4.821018143691968 5.196164766162274\n"
     ]
    }
   ],
   "source": [
    "mu, sigma, n= 5, 3, 1000\n",
    "\n",
    "rv= ss.norm.rvs(loc=mu, scale= sigma, size=n)\n",
    "rvsqrd= 0;\n",
    "xbarnsquard=0;\n",
    "\n",
    "k = ss.norm.ppf(1/2*(1+confidence_percentage/100))\n",
    "\n",
    "\n",
    "x_bar = np.mean(rv)\n",
    "xbarnsquard=n*(np.square(x_bar))\n",
    "ubSig =  np.std(rv, ddof=1)\n",
    "ubSig\n",
    "\n",
    "lower_bound, upper_bound=x_bar-k*ubSig/np.sqrt(n),x_bar+k*ubSig/np.sqrt(n)\n",
    "\n",
    "print(lower_bound, upper_bound)"
   ]
  },
  {
   "cell_type": "markdown",
   "id": "c45b58f5",
   "metadata": {},
   "source": [
    "Modify the previous code to calculate the fraction of experiments where the confidence interval contains the true value of $\\mu$, assuming that both $\\mu$ and $\\sigma$ are unknown.\n",
    "\n",
    "Once you have done this, adjust the number of samples taken each experiment, exploring values that are lower than 30. You should notice that the calculated fraction deviates significantly from the target value of 0.95."
   ]
  },
  {
   "cell_type": "code",
   "execution_count": 141,
   "id": "0f221fc4",
   "metadata": {},
   "outputs": [
    {
     "name": "stdout",
     "output_type": "stream",
     "text": [
      "The fraction of experiments where the confidence interval contains the true value of mu is 0.94\n"
     ]
    }
   ],
   "source": [
    "mu, sigma, n = 5, 3, 10  # n = number of samples taken in each experiment\n",
    "confidence_percentage = 95  # 95% confidence interval\n",
    "k = ss.t.ppf(1/2*(1+confidence_percentage/100), n-1)\n",
    "\n",
    "num_experiments = 100\n",
    "num_containing_mu = 0        # records the number of times our confidence interval contains the true value of the mean\n",
    "\n",
    "for i in range(num_experiments):\n",
    "    x_samples = ss.norm.rvs(loc=mu, scale=sigma, size=n)\n",
    "    x_bar = np.mean(x_samples)\n",
    "    lower_bound, upper_bound = x_bar-k*sigma/np.sqrt(n), x_bar+k*sigma/np.sqrt(n) # calculating the confidence interval\n",
    "    if (mu >= lower_bound) and (mu <= upper_bound):\n",
    "        num_containing_mu += 1       # if mu lies in the confidence interval, increment num_containing_mu by 1\n",
    "\n",
    "print(\"The fraction of experiments where the confidence interval contains the true value of mu is\", num_containing_mu/num_experiments)"
   ]
  },
  {
   "cell_type": "markdown",
   "id": "cfa129dc",
   "metadata": {},
   "source": [
    "## Normal distribution with unknown $\\mu$ and $\\sigma$, small sample size"
   ]
  },
  {
   "cell_type": "markdown",
   "id": "ee27683b",
   "metadata": {},
   "source": [
    "For sample sizes $n<30$, the approximation to the confidence interval described above becomes less accurate. Instead of using the normal distribution to calculate $k$, we instead must use Student's t-distribution with $n-1$ degrees of freedom. This is calculated in `scipy.stats` using the command\n",
    "\n",
    "```python\n",
    "confidence_percentage = 95\n",
    "k = ss.t.ppf(1/2*(1+confidence_percentage/100), n-1)\n",
    "```\n",
    "\n",
    "\"Student\" is a pseudonym for Irish statistician William Sealy Gosset, who derived his distribution in 1908 while working in quality control at the Guinness brewery in Dublin: https://en.wikipedia.org/wiki/Student%27s_t-distribution\n",
    "\n",
    "Using this value for $k$, repeat the fraction calculation above for small samples ($n=10$, say). You should notice a closer agreement to target fraction of 0.95."
   ]
  },
  {
   "cell_type": "code",
   "execution_count": null,
   "id": "616d3c8f",
   "metadata": {},
   "outputs": [],
   "source": []
  },
  {
   "cell_type": "markdown",
   "id": "6d9a25a1",
   "metadata": {},
   "source": [
    "# Maximum likelihood estimators (MLEs)\n",
    "\n",
    "## Normal distribution with unknown $\\mu$, known $\\sigma$ \n",
    "\n",
    "**scipy.stats** has a built-n `fit()` method that can calculate maximum likelihood estimates for its various distributions. We use it as follows:\n",
    "\n",
    "```python\n",
    "mu_true, sigma_true = 5, 2\n",
    "x_samples = ss.norm.rvs(loc=mu_true, scale=sigma_true, size=1000)  # take 1000 samples\n",
    "\n",
    "mu_MLE = ss.norm.fit(x_samples, fscale=sigma_true)[0]\n",
    "print(\"The maximum likelihood estimate of the mean is\", mu_MLE)\n",
    "\n",
    "```\n",
    "\n",
    "The `.fit()` method returns a list containing the MLE estimates for the given sample. In this example, we imagine we know the standard deviation $\\sigma$, and are just interested in estimating the mean $\\mu$. The optional argument `fscale=sigma_true` tells SciPy to fix the `scale` argument in the distribution (which corresponds to the standard deviation), so that maximises on the `loc` argument only (which corresponds to the mean).\n",
    "\n",
    "Try this below:"
   ]
  },
  {
   "cell_type": "code",
   "execution_count": 142,
   "id": "89c48f24",
   "metadata": {},
   "outputs": [
    {
     "name": "stdout",
     "output_type": "stream",
     "text": [
      "The maximum likelihood estimate of the mean is 4.945510493430081\n"
     ]
    }
   ],
   "source": [
    "mu_true, sigma_true = 5, 2\n",
    "x_samples = ss.norm.rvs(loc=mu_true, scale=sigma_true, size=1000)  # take 1000 samples\n",
    "\n",
    "mu_MLE = ss.norm.fit(x_samples, fscale=sigma_true)[0]\n",
    "print(\"The maximum likelihood estimate of the mean is\", mu_MLE)"
   ]
  },
  {
   "cell_type": "markdown",
   "id": "cfa7a67f",
   "metadata": {},
   "source": [
    "We can compare this to the theoretical MLE estimator derived in the lectures (which turned out to just be the sample mean):\n",
    "$$\n",
    "\\mu_\\text{MLE}(x_1,\\ldots,x_n) = \\frac{1}{n}\\sum_{i=1}x_i\n",
    "$$\n",
    "Calculate this value below:"
   ]
  },
  {
   "cell_type": "code",
   "execution_count": 143,
   "id": "3cf71e36",
   "metadata": {},
   "outputs": [
    {
     "data": {
      "text/plain": [
       "4.945510493430081"
      ]
     },
     "execution_count": 143,
     "metadata": {},
     "output_type": "execute_result"
    }
   ],
   "source": [
    "np.mean(x_samples)"
   ]
  },
  {
   "cell_type": "markdown",
   "id": "6e8ce5b3",
   "metadata": {},
   "source": [
    "You should see that the two values agree. Let's plot the histogram of the samples we drew, alongside the normal distribution with the given (known) standard deviation, and the MLE estimate for the mean:\n",
    "```python\n",
    "fig, ax = plt.subplots(nrows = 1, ncols=2)\n",
    "\n",
    "ax[0].hist(x_samples, bins=50)\n",
    "ax[0].set_title(\"histogram of samples\")\n",
    "\n",
    "x_range = np.linspace(min(x_samples),max(x_samples),100)\n",
    "ax[1].plot(x_range, ss.norm.pdf(x_range, loc=mu_MLE, scale=sigma_true))\n",
    "ax[1].set_title(\"pdf using mu_MLE\")\n",
    "ax[1].set_ylim(bottom=0)\n",
    "\n",
    "plt.tight_layout()\n",
    "plt.show()\n",
    "```\n",
    "\n",
    "The expression `np.linspace(min, max, num)` returns a list of `num` values starting from `min` and ending with `max`."
   ]
  },
  {
   "cell_type": "code",
   "execution_count": 144,
   "id": "0291e75f",
   "metadata": {},
   "outputs": [
    {
     "data": {
      "image/png": "[encoded data removed]",
      "text/plain": [
       "<Figure size 432x288 with 2 Axes>"
      ]
     },
     "metadata": {
      "needs_background": "light"
     },
     "output_type": "display_data"
    }
   ],
   "source": [
    "fig, ax = plt.subplots(nrows = 1, ncols=2)\n",
    "\n",
    "ax[0].hist(x_samples, bins=50)\n",
    "ax[0].set_title(\"histogram of samples\")\n",
    "\n",
    "x_range = np.linspace(min(x_samples),max(x_samples),100)\n",
    "ax[1].plot(x_range, ss.norm.pdf(x_range, loc=mu_MLE, scale=sigma_true))\n",
    "ax[1].set_title(\"pdf using mu_MLE\")\n",
    "ax[1].set_ylim(bottom=0)\n",
    "\n",
    "plt.tight_layout()\n",
    "plt.show()"
   ]
  },
  {
   "cell_type": "markdown",
   "id": "b449837b",
   "metadata": {},
   "source": [
    "Using the `fit()` method works well since we are drawing from a known distribution. But let us suppose we did not know the theoretical expression for the MLE estimator (this might be the case, for example, if we were using our own custom probability distribution to model a problem). We would need to resort to numerically maximizing the likelihood function, or more simply, the log-likelihood. Recall the expression for this:\n",
    "$$\n",
    "\\log L(\\lambda_1,\\ldots,\\lambda_l) = \\sum_{i=1}^n \\log f(x_i;\\lambda_1,\\ldots,\\lambda_l)\n",
    "$$\n",
    "where $x_1,\\ldots, x_n$ is the sample, and $\\lambda_1,\\ldots,\\lambda_l$ are the parameters our distribution function $f$. In the case of the normal distribution\n",
    "$$\n",
    "f(x;\\mu,\\sigma) = \\frac{1}{\\sqrt{2\\pi}\\sigma}\\exp\\left( -\\frac{(x-\\mu)^2}{2\\sigma^2} \\right)\n",
    "$$\n",
    "Since we are initially assuming $\\sigma$ is known, we just consider the function \n",
    "$$\n",
    "\\log L(\\mu) = \\sum_{i=1}^n \\log f(x_i;\\mu,\\sigma).\n",
    "$$\n",
    "\n",
    "We draw 1000 samples, and plot the log-likelihood using the following code:\n",
    "```python\n",
    "def loglikelihood(mu):\n",
    "    value = 0\n",
    "    for x in x_samples:\n",
    "        value += np.log(ss.norm.pdf(x, loc=mu, scale=sigma_true))\n",
    "    return value\n",
    "\n",
    "mu_range = np.linspace(0,10,100)\n",
    "plt.plot(mu_range, loglikelihood(mu_range))\n",
    "plt.title(\"Plot of log-likelihood function\")\n",
    "plt.xlabel(\"mu\")\n",
    "plt.show()\n",
    "```"
   ]
  },
  {
   "cell_type": "code",
   "execution_count": 147,
   "id": "3ce9c6c3",
   "metadata": {},
   "outputs": [
    {
     "data": {
      "image/png": "[encoded data removed]",
      "text/plain": [
       "<Figure size 432x288 with 1 Axes>"
      ]
     },
     "metadata": {
      "needs_background": "light"
     },
     "output_type": "display_data"
    }
   ],
   "source": [
    "def loglikelihood(mu):\n",
    "    value = 0\n",
    "    for x in x_samples:\n",
    "        value += np.log(ss.norm.pdf(x, loc=mu, scale=sigma_true))\n",
    "    return value\n",
    "\n",
    "mu_range = np.linspace(0,10,100)\n",
    "plt.plot(mu_range, loglikelihood(mu_range))\n",
    "plt.title(\"Plot of log-likelihood function\")\n",
    "plt.xlabel(\"mu\")\n",
    "plt.show()\n",
    "\n"
   ]
  },
  {
   "cell_type": "markdown",
   "id": "5bcc8670",
   "metadata": {},
   "source": [
    "Our goal is to find the value of $\\mu$ that maximises the log-likelihood function. We can do this by using the `minimize` function from `scipy.optimize`. Maximizing $L(\\mu)$ is equivalent to minimizing $-L(\\mu)$, so we need to define the auxilliary function `minusloglikelihood`. Also, the minimize function requires an initial guess, which we can estimate from the plot above - we take 7 as our initial guess in the code below:\n",
    "\n",
    "```python\n",
    "import scipy.optimize as so\n",
    "\n",
    "def minusloglikelihood(mu):\n",
    "    return (-1)*loglikelihood(mu)\n",
    "\n",
    "minimization_result = so.minimize(minusloglikelihood, 7)  # minimize with an initial guess of mu=7\n",
    "print(minimization_result)\n",
    "```"
   ]
  },
  {
   "cell_type": "code",
   "execution_count": 149,
   "id": "dbbb93fe",
   "metadata": {},
   "outputs": [
    {
     "name": "stdout",
     "output_type": "stream",
     "text": [
      "      fun: 2522.295494426391\n",
      " hess_inv: array([[0.00969226]])\n",
      "      jac: array([0.])\n",
      "  message: 'Optimization terminated successfully.'\n",
      "     nfev: 30\n",
      "      nit: 4\n",
      "     njev: 15\n",
      "   status: 0\n",
      "  success: True\n",
      "        x: array([5.04491131])\n"
     ]
    }
   ],
   "source": [
    "import scipy.optimize as so\n",
    "\n",
    "def minusloglikelihood(mu):\n",
    "    return (-1)*loglikelihood(mu)\n",
    "\n",
    "minimization_result = so.minimize(minusloglikelihood, 7)  # minimize with an initial guess of mu=7\n",
    "print(minimization_result)"
   ]
  },
  {
   "cell_type": "markdown",
   "id": "61e80090",
   "metadata": {},
   "source": [
    "`minimization_result` contains a collection of useful information related to the minimization. The value of $\\mu$ that actually minimizes $-\\log L(\\mu)$ is stored in `minimization_result.x` as a numpy array. From this, you can extract the MLE estimate for $\\mu$:\n",
    "```python\n",
    "mu_MLE = minimization_result.x[0]\n",
    "```\n",
    "As above, try plotting the histogram of samples against the pdf generated using $\\mu_\\text{MLE}$ (and the true value of $\\sigma$):"
   ]
  },
  {
   "cell_type": "code",
   "execution_count": 151,
   "id": "f4c9c382",
   "metadata": {},
   "outputs": [
    {
     "data": {
      "text/plain": [
       "5.044911307196644"
      ]
     },
     "execution_count": 151,
     "metadata": {},
     "output_type": "execute_result"
    }
   ],
   "source": [
    "mu_MLE = minimization_result.x[0]\n",
    "\n",
    "mu_MLE"
   ]
  },
  {
   "cell_type": "markdown",
   "id": "13e31397",
   "metadata": {},
   "source": [
    "## Normal distribution with unknown $\\sigma$, known $\\mu$\n",
    "\n",
    "We can repeat this procedure in the case that $\\mu$ is known, but $\\sigma$ is unknown. Firstly, using the `fit()` method, and comparing with the theoretical MLE estimator:\n",
    "$$\n",
    "\\sigma_\\text{MLE} = \\sqrt{\\frac{1}{n}\\sum_{i=1}^n (x_i-\\mu)^2}\n",
    "$$"
   ]
  },
  {
   "cell_type": "code",
   "execution_count": 152,
   "id": "ca4940aa",
   "metadata": {},
   "outputs": [
    {
     "name": "stdout",
     "output_type": "stream",
     "text": [
      "The maximum likelihood estimate of the mean is  4.9103376258624705\n",
      "The maximum likelihood estimate of the standard deviation is  2.9968381353523683\n"
     ]
    }
   ],
   "source": [
    "mu_true, sigma_true = 5, 3\n",
    "x_samples = ss.norm.rvs(loc=mu_true, scale=sigma_true, size=1000)\n",
    "\n",
    "mu_MLE, sigma_MLE = ss.norm.fit(x_samples)\n",
    "print(\"The maximum likelihood estimate of the mean is \", mu_MLE)\n",
    "print(\"The maximum likelihood estimate of the standard deviation is \", sigma_MLE)"
   ]
  },
  {
   "cell_type": "markdown",
   "id": "0bb528db",
   "metadata": {},
   "source": [
    "Again, we would like to do this using `minimize`. In this case, the log likehood function is\n",
    "$$\n",
    "\\log L(\\sigma) = \\sum_{i=1}^n \\log f(x_i;\\mu,\\sigma)\n",
    "$$\n",
    "where now $\\mu$ is known. First, plot the log-likehood function below (over a suitable range of values for $\\sigma$, e.g. 1 to 5):"
   ]
  },
  {
   "cell_type": "code",
   "execution_count": 158,
   "id": "db3b531d",
   "metadata": {},
   "outputs": [
    {
     "data": {
      "image/png": "[encoded data removed]",
      "text/plain": [
       "<Figure size 432x288 with 1 Axes>"
      ]
     },
     "metadata": {
      "needs_background": "light"
     },
     "output_type": "display_data"
    }
   ],
   "source": [
    "def loglikelihood(sigma):\n",
    "    value = 0\n",
    "    for x in x_samples:\n",
    "        value += np.log(ss.norm.pdf(x, loc=mu_true, scale=sigma))\n",
    "    return value\n",
    "\n",
    "sigma_range = np.linspace(1,5,100)\n",
    "plt.plot(sigma_range, loglikelihood(sigma_range))\n",
    "plt.title(\"Plot of log-likelihood function\")\n",
    "plt.xlabel(\"sigma\")\n",
    "plt.show()    "
   ]
  },
  {
   "cell_type": "markdown",
   "id": "e7f84b29",
   "metadata": {},
   "source": [
    "Next, use `scipy.optimize.minimize` to find the value of $\\sigma$ that maximizes the log-likelihood function, choosing an initial guess by referring to your plot above. \n",
    "\n",
    "**Note:** if the output of the minimize function contains the message `Desired error not necessarily achieved due to precision loss.`, it may be because your initial guess was not close enough (although you will often get a good result for the maximum point regardless)."
   ]
  },
  {
   "cell_type": "code",
   "execution_count": 161,
   "id": "77608c21",
   "metadata": {},
   "outputs": [
    {
     "data": {
      "text/plain": [
       "      fun: 2516.9436840077183\n",
       " hess_inv: array([[0.00021136]])\n",
       "      jac: array([-9.15527344e-05])\n",
       "  message: 'Desired error not necessarily achieved due to precision loss.'\n",
       "     nfev: 76\n",
       "      nit: 7\n",
       "     njev: 36\n",
       "   status: 2\n",
       "  success: False\n",
       "        x: array([2.99817976])"
      ]
     },
     "execution_count": 161,
     "metadata": {},
     "output_type": "execute_result"
    }
   ],
   "source": [
    "def minimizeloglikelihood(sigma):\n",
    "    return (-1)*loglikelihood(sigma)\n",
    "\n",
    "minimize= so.minimize(minimizeloglikelihood, 7)\n",
    "\n",
    "print()"
   ]
  },
  {
   "cell_type": "markdown",
   "id": "4ba31169",
   "metadata": {},
   "source": [
    "Plot the histogram of samples and the pdf generated using $\\sigma_\\text{MLE}$ (and the true value of $\\mu$) below:"
   ]
  },
  {
   "cell_type": "code",
   "execution_count": null,
   "id": "50da2e12",
   "metadata": {},
   "outputs": [],
   "source": []
  },
  {
   "cell_type": "markdown",
   "id": "b54f2bc5",
   "metadata": {},
   "source": [
    "## Normal distribution with unknown $\\mu$ and $\\sigma$\n",
    "\n",
    "Finally, let us consider the case where we do not know either $\\mu$ or $\\sigma$. Again, we can use the `fit()` method to estimate both parameters:\n",
    "\n",
    "```python\n",
    "mu_true, sigma_true = 5, 3\n",
    "x_samples = ss.norm.rvs(loc=mu_true, scale=sigma_true, size=1000)\n",
    "\n",
    "mu_MLE, sigma_MLE = ss.norm.fit(x_samples)\n",
    "print(\"The maximum likelihood estimate of the mean is \", mu_MLE)\n",
    "print(\"The maximum likelihood estimate of the standard deviation is \", sigma_MLE)\n",
    "```"
   ]
  },
  {
   "cell_type": "code",
   "execution_count": 148,
   "id": "c4c2339e",
   "metadata": {},
   "outputs": [
    {
     "name": "stdout",
     "output_type": "stream",
     "text": [
      "The maximum likelihood estimate of the mean is  5.0449100537510985\n",
      "The maximum likelihood estimate of the standard deviation is  3.0142004090576577\n"
     ]
    }
   ],
   "source": [
    "mu_true, sigma_true = 5, 3\n",
    "x_samples = ss.norm.rvs(loc=mu_true, scale=sigma_true, size=1000)\n",
    "\n",
    "mu_MLE, sigma_MLE = ss.norm.fit(x_samples)\n",
    "print(\"The maximum likelihood estimate of the mean is \", mu_MLE)\n",
    "print(\"The maximum likelihood estimate of the standard deviation is \", sigma_MLE)"
   ]
  },
  {
   "cell_type": "markdown",
   "id": "07f41a6d",
   "metadata": {},
   "source": [
    "Compare this against the MLE estimators derived in lectures:\n",
    "$$\n",
    "\\begin{align*}\n",
    "\\mu_\\text{MLE}(x_1,\\ldots, x_n) &= \\frac{1}{n}\\sum_{i=1}^n x_1 \\qquad\\qquad\\qquad \\text{the sample mean}\\\\\n",
    "\\sigma_\\text{MLE}(x_1,\\ldots,x_n) &= \\sqrt{\\frac{1}{n}\\sum_{i=1}^n (x_i-\\mu_\\text{MLE})^2} \\qquad \\text{the biased sample standard deviation}\n",
    "\\end{align*}\n",
    "$$"
   ]
  },
  {
   "cell_type": "code",
   "execution_count": null,
   "id": "cd7180c4",
   "metadata": {},
   "outputs": [],
   "source": []
  },
  {
   "cell_type": "markdown",
   "id": "f2b71a64",
   "metadata": {},
   "source": [
    "In order this case, the log-likelihood function is a function $\\log L(\\mu,\\sigma)$ of two variables. In order to visualize it, we use the `surface_plotting` function of `matplotlib.pyplot`:\n",
    "```python\n",
    "def loglikelihood(params):\n",
    "    value = 0\n",
    "    for x in x_samples:\n",
    "        value += np.log(ss.norm.pdf(x, loc=params[0], scale=params[1]))\n",
    "    return value\n",
    "\n",
    "mu_range = np.linspace(2,10,20)\n",
    "sigma_range = np.linspace(1,5,20)\n",
    "\n",
    "# this takes mu_range and sigma_range, and produces a grid of points suitable for 3d plotting \n",
    "muv, sigmav = np.meshgrid(mu_range, sigma_range)  \n",
    "\n",
    "# values of the log-likelihood function over all points (mu, sigma) in the grid\n",
    "ll_values = loglikelihood([muv, sigmav])  \n",
    "\n",
    "ax = plt.axes(projection = '3d')\n",
    "ax.plot_surface(muv, sigmav, ll_values, cmap='plasma')  # cmap is the colormap, which associates a colour with a height\n",
    "ax.set_xlabel('mu')\n",
    "ax.set_ylabel('lambda')\n",
    "ax.set_zlabel('log-likelihood')\n",
    "\n",
    "plt.show()\n",
    "```\n",
    "Try this below:"
   ]
  },
  {
   "cell_type": "code",
   "execution_count": null,
   "id": "f1e6308e",
   "metadata": {},
   "outputs": [],
   "source": []
  },
  {
   "cell_type": "markdown",
   "id": "150442d5",
   "metadata": {},
   "source": [
    "Minimizing the log-likehood function works identically to before, except now you must pass a list of initial guesses (of the form `[mu_guess, sigma_guess]`):"
   ]
  },
  {
   "cell_type": "code",
   "execution_count": null,
   "id": "f3df762b",
   "metadata": {},
   "outputs": [],
   "source": []
  },
  {
   "cell_type": "markdown",
   "id": "4f776120",
   "metadata": {},
   "source": [
    "Plot the histogram of samples, and the pdf generated using $\\mu_\\text{MLE}$ and $\\sigma_\\text{MLE}$:"
   ]
  },
  {
   "cell_type": "code",
   "execution_count": null,
   "id": "d88d8557",
   "metadata": {},
   "outputs": [],
   "source": []
  },
  {
   "cell_type": "markdown",
   "id": "0b97ca46",
   "metadata": {},
   "source": [
    "## Exponential distribution with unknown $\\beta$\n",
    "\n",
    "Repeat the above analysis for the exponential distribution\n",
    "\n",
    "$$\n",
    "f(x;\\beta) = \\beta e^{-\\beta x}\n",
    "$$\n",
    "\n",
    "In the Week 5 Tutorial Questions, you will show that the theoretical MLE estimator for $\\beta$ is\n",
    "\n",
    "$$\n",
    "\\beta_\\text{MLE}(x_1,\\ldots, x_n) = \\frac{n}{\\sum_{i=1}^n x_i} = \\frac{1}{\\bar{x}}\n",
    "$$\n",
    "\n",
    "The exponential distribution in `scipy.stats` is `expon`, and has two arguments `loc` and `scale`. The form of the exponential distribution above corresponds to choosing `loc=0` and `scale = 1/beta`."
   ]
  },
  {
   "cell_type": "code",
   "execution_count": null,
   "id": "3543aedb",
   "metadata": {},
   "outputs": [],
   "source": []
  }
 ],
 "metadata": {
  "kernelspec": {
   "display_name": "Python 3 (ipykernel)",
   "language": "python",
   "name": "python3"
  },
  "language_info": {
   "codemirror_mode": {
    "name": "ipython",
    "version": 3
   },
   "file_extension": ".py",
   "mimetype": "text/x-python",
   "name": "python",
   "nbconvert_exporter": "python",
   "pygments_lexer": "ipython3",
   "version": "3.9.12"
  }
 },
 "nbformat": 4,
 "nbformat_minor": 5
}
